{
 "cells": [
  {
   "cell_type": "code",
   "execution_count": null,
   "metadata": {},
   "outputs": [],
   "source": [
    "import pandas as pd\n",
    "import numpy as np\n",
    "\n",
    "tableMusic = pd.read_csv(\"./tableMusic.csv\", sep=(\",\"), index_col='id_music')\n",
    "\n",
    "display(tableMusic)"
   ]
  },
  {
   "cell_type": "code",
   "execution_count": null,
   "metadata": {},
   "outputs": [],
   "source": [
    "styles = tableMusic[[\"style\"]] #Just column style\n",
    "display(styles)"
   ]
  },
  {
   "cell_type": "code",
   "execution_count": null,
   "metadata": {},
   "outputs": [],
   "source": [
    "indexMusic = 13\n",
    "lineSpecific = tableMusic.loc[[indexMusic]] #buscando musica pelo id\n",
    "\n",
    "print(lineSpecific)"
   ]
  },
  {
   "cell_type": "code",
   "execution_count": null,
   "metadata": {},
   "outputs": [],
   "source": [
    "titles = pd.Series(tableMusic['title'])\n",
    "songwritter = pd.Series(tableMusic['songwritter'])\n",
    "\n",
    "display(titles, songwritter)"
   ]
  },
  {
   "cell_type": "code",
   "execution_count": 57,
   "metadata": {},
   "outputs": [
    {
     "name": "stdout",
     "output_type": "stream",
     "text": [
      "         style  type              title  \\\n",
      "id_music                                  \n",
      "1         Rock  Band               Numb   \n",
      "2         Rock  Band  How You Remind Me   \n",
      "3         Rock  Band    Californication   \n",
      "4         Rock  Band     Clint Eastwood   \n",
      "5         Rock  Band      Feel Good Inc   \n",
      "6         Rock  Band          Chop Suey   \n",
      "7         Rock  Band          Otherside   \n",
      "8         Rock  Band               Dumb   \n",
      "9         Rock  Band    Come As You Are   \n",
      "10        Rock  Band              Crazy   \n",
      "\n",
      "                                                songwritter  year  \\\n",
      "id_music                                                            \n",
      "1                                               Linkin Park  2003   \n",
      "2                                              Chad Kroeger  2001   \n",
      "3         Anthony Kiedis, Chad Smith, Flea E John Frusci...  1999   \n",
      "4                  Damon Albarn, Jamie Hewlett, Teren Jones  2001   \n",
      "5                             Damon Albarn, David Jolicoeur  2005   \n",
      "6                              Daron Malakian, Serj Tankian  2001   \n",
      "7                           Flea, Frusciante, Kiedis, Smith  1999   \n",
      "8                                               Kurt Cobain  1993   \n",
      "9                                               Kurt Cobain  1991   \n",
      "10                   Steven Tyler, Joe Perry, Desmond Child  1993   \n",
      "\n",
      "                         artist  rating_global  rating_user  duration  \n",
      "id_music                                                               \n",
      "1                   Linkin Park              4          NaN       188  \n",
      "2                    Nickelback              5          NaN       228  \n",
      "3         Red Hot Chili Peppers              5          NaN       322  \n",
      "4                      Gorillaz              4          NaN       269  \n",
      "5                      Gorillaz              5          NaN       254  \n",
      "6                System Of Down              5          NaN       225  \n",
      "7         Red Hot Chili Peppers              5          NaN       256  \n",
      "8                       Nirvana              4          NaN       149  \n",
      "9                       Nirvana              4          NaN       225  \n",
      "10                    Aerosmith              4          NaN       374  \n"
     ]
    }
   ],
   "source": [
    "print(tableMusic.head(10))"
   ]
  }
 ],
 "metadata": {
  "kernelspec": {
   "display_name": "Python 3",
   "language": "python",
   "name": "python3"
  },
  "language_info": {
   "codemirror_mode": {
    "name": "ipython",
    "version": 3
   },
   "file_extension": ".py",
   "mimetype": "text/x-python",
   "name": "python",
   "nbconvert_exporter": "python",
   "pygments_lexer": "ipython3",
   "version": "3.12.0"
  }
 },
 "nbformat": 4,
 "nbformat_minor": 2
}
