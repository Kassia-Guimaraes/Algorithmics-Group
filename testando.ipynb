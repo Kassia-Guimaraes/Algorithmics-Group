{
 "cells": [
  {
   "cell_type": "code",
   "execution_count": null,
   "metadata": {},
   "outputs": [],
   "source": [
    "import pandas as pd\n",
    "import numpy as np\n",
    "\n",
    "tm = pd.read_csv(\"./tableMusic.csv\", sep=(\",\"), index_col='id_music')\n",
    "\n",
    "display(tm)"
   ]
  },
  {
   "cell_type": "code",
   "execution_count": null,
   "metadata": {},
   "outputs": [],
   "source": [
    "import pandas as pd\n",
    "import numpy as np\n",
    "\n",
    "tm = pd.read_csv(\"./tableMusic.csv\", sep=(\",\"), index_col='id_music')\n",
    "tete = tm[(tm['year']== 2001) & (tm['style']== \"Rock\")] #Parâmetros de busca das músicas\n",
    "duration = tete[['duration']].sum() #Soma da duração das músicas\n",
    "\n",
    "display(duration)"
   ]
  },
  {
   "cell_type": "code",
   "execution_count": null,
   "metadata": {},
   "outputs": [],
   "source": [
    "import pandas as pd\n",
    "import numpy as np\n",
    "\n",
    "tm = pd.read_csv(\"./tableMusic.csv\", sep=(\",\"), index_col='id_music')\n",
    "#styles = tm[[\"style\"]] #Just column style\n",
    "\n",
    "#new_style = input(\"New Style\")\n",
    "new_style = \"Funk\"\n",
    "#add_style = {'style': new_style}\n",
    "new_msc_line = {'style': new_style, 'type': None, 'title': None, 'songwritter': None, 'year': None, 'artist': None, 'rating_global': None,  'rating_user':None, 'duration': None}\n",
    "\n",
    "tableStyle = tm.append(new_msc_line, ignore_index=True)\n",
    "display(tableStyle)"
   ]
  },
  {
   "cell_type": "code",
   "execution_count": null,
   "metadata": {},
   "outputs": [],
   "source": [
    "count_elements = tm[['title']].count()\n",
    "\n",
    "sum = count_elements + 10\n",
    "\n",
    "print(sum)"
   ]
  },
  {
   "cell_type": "code",
   "execution_count": null,
   "metadata": {},
   "outputs": [],
   "source": [
    "tipos_dados = tm.dtypes\n",
    "print(tipos_dados)"
   ]
  },
  {
   "cell_type": "code",
   "execution_count": null,
   "metadata": {},
   "outputs": [],
   "source": [
    "import pandas as pd\n",
    "\n",
    "styles = []\n",
    "df = pd.read_csv('tableMusic.csv')\n",
    "def addStyle():\n",
    "    styles.append(input())\n",
    "print(\"add a sytle\")\n",
    "styles = (list(df.loc[:, \"style\"].drop_duplicates()))\n",
    "addStyle()\n",
    "\n",
    "display(styles)"
   ]
  },
  {
   "cell_type": "code",
   "execution_count": null,
   "metadata": {},
   "outputs": [],
   "source": [
    "indexMusic = int(input(\"Line\"))\n",
    "lineSpecific = tm.loc[[indexMusic]] #buscando musica pelo id\n",
    "\n",
    "print(lineSpecific)"
   ]
  },
  {
   "cell_type": "code",
   "execution_count": null,
   "metadata": {},
   "outputs": [],
   "source": [
    "year_lanc = 2001\n",
    "style_search = \"Rock\"\n",
    "\n",
    "search_per = tm[(tm['year']== year_lanc) & (tm['style']==style_search)] #parâmetros para a pesquisa\n",
    "print(search_per[['title', 'year','style']]) #Fazendo print de colunas específicas e em ordem específica"
   ]
  },
  {
   "cell_type": "code",
   "execution_count": null,
   "metadata": {},
   "outputs": [],
   "source": [
    "\n",
    "year = int(input(\"Search by specific year: \"))\n",
    "search_per_year = tm[tm['year']== year]\n",
    "drt_total = search_per_year[['duration']].sum() #Soma da duração das músicas\n",
    "\n",
    "count_elements = search_per_year.count()\n",
    "\n",
    "print(count_elements)"
   ]
  },
  {
   "cell_type": "code",
   "execution_count": null,
   "metadata": {},
   "outputs": [],
   "source": [
    "ano_lanc = int(input(\"Qual o ano de lançamento da música?\"))\n",
    "music_year = tm[tm['year'] == ano_lanc]\n",
    "\n",
    "print(\"Músicas lançadas em\", ano_lanc, \":\")\n",
    "print(music_year[['style', 'type','title','songwritter', 'year','artist','rating_global','rating_user','duration']])"
   ]
  },
  {
   "cell_type": "code",
   "execution_count": null,
   "metadata": {},
   "outputs": [],
   "source": [
    "texto = input(\"Digite o nome da música desejada\")\n",
    "texto_maiusculo = texto.title()\n",
    "\n",
    "print(texto_maiusculo)"
   ]
  },
  {
   "cell_type": "code",
   "execution_count": null,
   "metadata": {},
   "outputs": [],
   "source": [
    "import pandas as pd\n",
    "import numpy as np\n",
    "\n",
    "tm = pd.read_csv(\"./tableMusic.csv\", sep=(\",\"), index_col='id_music')\n",
    "\n",
    "style_search = input(\"Qual o estilo músical que deseja procurar?\")\n",
    "style_search = style_search.title()\n",
    "style = tm[tm['style'] == style_search]\n",
    "\n",
    "print(\"Músicas do estilo \", style_search, \":\")\n",
    "#display(style[['style', 'type','title','songwritter', 'year','artist','rating_global','rating_user','duration']])\n",
    "display(style[['style', 'type','title','songwritter', 'year','artist','rating_global','rating_user','duration']])"
   ]
  },
  {
   "cell_type": "code",
   "execution_count": null,
   "metadata": {},
   "outputs": [],
   "source": [
    "tm = pd.read_csv(\"./tableMusic.csv\", sep=(\",\"), index_col='id_music')\n",
    "\n",
    "addStyle = input(\"New style: \")\n",
    "\n",
    "newStyle = {'style': addStyle, 'type': None, 'title': None, 'songwritter': None, 'year': None, 'artist': None, 'rating_global': None,  'rating_user':None, 'duration': None}\n",
    "addNewStyle = tm.append(newStyle, ignore_index=True)\n",
    "print(addNewStyle)"
   ]
  }
 ],
 "metadata": {
  "kernelspec": {
   "display_name": "Python 3",
   "language": "python",
   "name": "python3"
  },
  "language_info": {
   "codemirror_mode": {
    "name": "ipython",
    "version": 3
   },
   "file_extension": ".py",
   "mimetype": "text/x-python",
   "name": "python",
   "nbconvert_exporter": "python",
   "pygments_lexer": "ipython3",
   "version": "3.12.0"
  }
 },
 "nbformat": 4,
 "nbformat_minor": 2
}
