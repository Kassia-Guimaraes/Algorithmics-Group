{
 "cells": [
  {
   "cell_type": "code",
   "execution_count": null,
   "metadata": {},
   "outputs": [],
   "source": [
    "import pandas as pd\n",
    "import numpy as np\n",
    "\n",
    "tm = pd.read_csv(\".data/tableMusic.csv\", sep=(\",\"), index_col='id_music')\n",
    "\n",
    "display(tm)"
   ]
  },
  {
   "cell_type": "code",
   "execution_count": null,
   "metadata": {},
   "outputs": [],
   "source": [
    "import pandas as pd\n",
    "import numpy as np\n",
    "\n",
    "tm = pd.read_csv(\".data/tableMusic.csv\", sep=(\",\"), index_col='id_music')\n",
    "tete = tm[(tm['year']== 2001) & (tm['style']== \"Rock\")] #Parâmetros de busca das músicas\n",
    "duration = tete[['duration']].sum() #Soma da duração das músicas\n",
    "\n",
    "display(duration)"
   ]
  },
  {
   "cell_type": "code",
   "execution_count": 19,
   "metadata": {},
   "outputs": [
    {
     "name": "stdout",
     "output_type": "stream",
     "text": [
      "[188, 228, 322, 269, 254]\n"
     ]
    }
   ],
   "source": [
    "import pandas as pd\n",
    "\n",
    "tm = pd.read_csv('data/tableMusic.csv')\n",
    "\n",
    "# Use loc para localizar o elemento específico\n",
    "duration_songs = []\n",
    "for i in range(1, 6):\n",
    "    filtro = tm.loc[tm['id_music'] == i, 'duration']\n",
    "    if not filtro.empty:\n",
    "        duration_songs.append(int(filtro.iloc[0]))\n",
    "    else:\n",
    "        print(f\"Nenhum registro encontrado para id_music igual a {i}.\")\n",
    "\n",
    "print(duration_songs)"
   ]
  },
  {
   "cell_type": "code",
   "execution_count": null,
   "metadata": {},
   "outputs": [],
   "source": [
    "import pandas as pd\n",
    "\n",
    "df = pd.read_csv(\"data/playlist.csv\", sep=(\",\"))\n",
    "\n",
    "filter = df[df['id_playlist']=='best_rock']\n",
    "id_playlist = filter['id_playlist'].drop_duplicates()\n",
    "\n",
    "display(f\"'{id_playlist}'\\n\\n\",filter[[\"duration_playlist\",\"id_music\",\"rating_playlist\",\"average_rating_musics\"]])"
   ]
  },
  {
   "cell_type": "code",
   "execution_count": null,
   "metadata": {},
   "outputs": [],
   "source": [
    "import pandas as pd\n",
    "\n",
    "df = pd.read_csv(\"data/playlist.csv\", sep=(\",\"))\n",
    "\n",
    "coluna_unica = df['id_playlist'].drop_duplicates().tolist()\n",
    "print(coluna_unica)"
   ]
  },
  {
   "cell_type": "code",
   "execution_count": null,
   "metadata": {},
   "outputs": [],
   "source": [
    "count_elements = tm[['title']].count()\n",
    "sum = count_elements + 10\n",
    "\n",
    "print(sum)"
   ]
  },
  {
   "cell_type": "code",
   "execution_count": null,
   "metadata": {},
   "outputs": [],
   "source": [
    "tipos_dados = tm.dtypes\n",
    "print(tipos_dados)"
   ]
  },
  {
   "cell_type": "code",
   "execution_count": null,
   "metadata": {},
   "outputs": [],
   "source": [
    "import pandas as pd\n",
    "\n",
    "styles = []\n",
    "df = pd.read_csv('tableMusic.csv')\n",
    "def addStyle():\n",
    "    styles.append(input())\n",
    "print(\"add a sytle\")\n",
    "styles = (list(df.loc[:, \"style\"].drop_duplicates()))\n",
    "addStyle()\n",
    "\n",
    "display(styles)"
   ]
  },
  {
   "cell_type": "code",
   "execution_count": null,
   "metadata": {},
   "outputs": [],
   "source": [
    "indexMusic = int(input(\"Line\"))\n",
    "lineSpecific = tm.loc[[indexMusic]] #buscando musica pelo id\n",
    "\n",
    "print(lineSpecific)"
   ]
  },
  {
   "cell_type": "code",
   "execution_count": null,
   "metadata": {},
   "outputs": [],
   "source": [
    "import pandas as pd\n",
    "import numpy as np\n",
    "\n",
    "tm = pd.read_csv(\".data/tableMusic.csv\", sep=(\",\"), index_col='id_music')\n",
    "\n",
    "year_lanc = 2001\n",
    "style_search = \"Rock\"\n",
    "\n",
    "search_per = tm[(tm['year']== year_lanc) & (tm['style']==style_search)] #parâmetros para a pesquisa\n",
    "print(search_per[['title', 'year','style']]) #Fazendo print de colunas específicas e em ordem específica"
   ]
  },
  {
   "cell_type": "code",
   "execution_count": null,
   "metadata": {},
   "outputs": [],
   "source": [
    "\n",
    "year = int(input(\"Search by specific year: \"))\n",
    "search_per_year = tm[tm['year']== year]\n",
    "drt_total = search_per_year[['duration']].sum() #Soma da duração das músicas\n",
    "\n",
    "count_elements = search_per_year.count()\n",
    "\n",
    "print(count_elements)"
   ]
  },
  {
   "cell_type": "code",
   "execution_count": null,
   "metadata": {},
   "outputs": [],
   "source": [
    "ano_lanc = int(input(\"Qual o ano de lançamento da música?\"))\n",
    "music_year = tm[tm['year'] == ano_lanc]\n",
    "\n",
    "print(\"Músicas lançadas em\", ano_lanc, \":\")\n",
    "print(music_year[['style', 'type','title','songwriter', 'year','artist','rating_global','rating_user','duration']])"
   ]
  }
 ],
 "metadata": {
  "kernelspec": {
   "display_name": "Python 3",
   "language": "python",
   "name": "python3"
  },
  "language_info": {
   "codemirror_mode": {
    "name": "ipython",
    "version": 3
   },
   "file_extension": ".py",
   "mimetype": "text/x-python",
   "name": "python",
   "nbconvert_exporter": "python",
   "pygments_lexer": "ipython3",
   "version": "3.12.0"
  }
 },
 "nbformat": 4,
 "nbformat_minor": 2
}
