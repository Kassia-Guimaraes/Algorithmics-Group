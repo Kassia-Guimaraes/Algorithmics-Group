{
 "cells": [
  {
   "cell_type": "code",
   "execution_count": null,
   "metadata": {},
   "outputs": [],
   "source": [
    "import pandas as pd\n",
    "import numpy as np\n",
    "\n",
    "tableMusic = pd.read_csv(\"./tableMusic.csv\", sep=(\",\"), index_col='id_music')\n",
    "\n",
    "display(tableMusic)"
   ]
  },
  {
   "cell_type": "code",
   "execution_count": null,
   "metadata": {},
   "outputs": [],
   "source": [
    "tipos_dados = tableMusic.dtypes\n",
    "print(tipos_dados)"
   ]
  },
  {
   "cell_type": "code",
   "execution_count": null,
   "metadata": {},
   "outputs": [],
   "source": [
    "styles = tableMusic[[\"style\"]] #Just column style\n",
    "display(styles)"
   ]
  },
  {
   "cell_type": "code",
   "execution_count": null,
   "metadata": {},
   "outputs": [],
   "source": [
    "indexMusic = 13\n",
    "lineSpecific = tableMusic.loc[[indexMusic]] #buscando musica pelo id\n",
    "\n",
    "print(lineSpecific)"
   ]
  },
  {
   "cell_type": "code",
   "execution_count": null,
   "metadata": {},
   "outputs": [],
   "source": [
    "titles = pd.Series(tableMusic['title'])\n",
    "songwritter = pd.Series(tableMusic['songwritter'])\n",
    "\n",
    "display(titles, songwritter)"
   ]
  },
  {
   "cell_type": "code",
   "execution_count": null,
   "metadata": {},
   "outputs": [],
   "source": [
    "ano_lanc = int(input(\"Qual o ano de lançamento da música?\"))\n",
    "music_year = tableMusic[tableMusic['year'] == ano_lanc]\n",
    "\n",
    "print(\"Músicas lançadas em\", ano_lanc, \":\")\n",
    "print(music_year[['style', 'type','title','songwritter', 'year','artist','rating_global','rating_user','duration']])"
   ]
  },
  {
   "cell_type": "code",
   "execution_count": null,
   "metadata": {},
   "outputs": [],
   "source": [
    "texto = input(\"Digite o nome da música desejada\")\n",
    "texto_maiusculo = texto.title()\n",
    "\n",
    "print(texto_maiusculo)"
   ]
  },
  {
   "cell_type": "code",
   "execution_count": null,
   "metadata": {},
   "outputs": [],
   "source": [
    "style_search = input(\"Qual o estilo músical que deseja procurar?\")\n",
    "style_search = style_search.title()\n",
    "style = tableMusic[tableMusic['style'] == style_search]\n",
    "\n",
    "print(\"Músicas do estilo \", style_search, \":\")\n",
    "display(style[['style', 'type','title','songwritter', 'year','artist','rating_global','rating_user','duration']])"
   ]
  }
 ],
 "metadata": {
  "kernelspec": {
   "display_name": "Python 3",
   "language": "python",
   "name": "python3"
  },
  "language_info": {
   "codemirror_mode": {
    "name": "ipython",
    "version": 3
   },
   "file_extension": ".py",
   "mimetype": "text/x-python",
   "name": "python",
   "nbconvert_exporter": "python",
   "pygments_lexer": "ipython3",
   "version": "3.12.0"
  }
 },
 "nbformat": 4,
 "nbformat_minor": 2
}
