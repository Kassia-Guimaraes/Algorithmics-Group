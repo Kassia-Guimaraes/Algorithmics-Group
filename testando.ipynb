{
 "cells": [
  {
   "cell_type": "code",
   "execution_count": null,
   "metadata": {},
   "outputs": [],
   "source": [
    "import pandas as pd\n",
    "import numpy as np\n",
    "\n",
    "tm = pd.read_csv(\".data/tableMusic.csv\", sep=(\",\"), index_col='id_music')\n",
    "\n",
    "display(tm)"
   ]
  },
  {
   "cell_type": "code",
   "execution_count": null,
   "metadata": {},
   "outputs": [],
   "source": [
    "import pandas as pd\n",
    "import numpy as np\n",
    "\n",
    "tm = pd.read_csv(\".data/tableMusic.csv\", sep=(\",\"), index_col='id_music')\n",
    "tete = tm[(tm['year']== 2001) & (tm['style']== \"Rock\")] #Parâmetros de busca das músicas\n",
    "duration = tete[['duration']].sum() #Soma da duração das músicas\n",
    "\n",
    "display(duration)"
   ]
  },
  {
   "cell_type": "code",
   "execution_count": 6,
   "metadata": {},
   "outputs": [
    {
     "data": {
      "text/html": [
       "<div>\n",
       "<style scoped>\n",
       "    .dataframe tbody tr th:only-of-type {\n",
       "        vertical-align: middle;\n",
       "    }\n",
       "\n",
       "    .dataframe tbody tr th {\n",
       "        vertical-align: top;\n",
       "    }\n",
       "\n",
       "    .dataframe thead th {\n",
       "        text-align: right;\n",
       "    }\n",
       "</style>\n",
       "<table border=\"1\" class=\"dataframe\">\n",
       "  <thead>\n",
       "    <tr style=\"text-align: right;\">\n",
       "      <th></th>\n",
       "      <th>id_music</th>\n",
       "      <th>style</th>\n",
       "      <th>type</th>\n",
       "      <th>title</th>\n",
       "      <th>songwriter</th>\n",
       "      <th>year</th>\n",
       "      <th>artist</th>\n",
       "      <th>rating_global</th>\n",
       "      <th>rating_user</th>\n",
       "      <th>duration</th>\n",
       "    </tr>\n",
       "  </thead>\n",
       "  <tbody>\n",
       "    <tr>\n",
       "      <th>2</th>\n",
       "      <td>3</td>\n",
       "      <td>Rock</td>\n",
       "      <td>Band</td>\n",
       "      <td>Californication</td>\n",
       "      <td>Anthony Kiedis, Chad Smith, Flea E John Frusci...</td>\n",
       "      <td>1999</td>\n",
       "      <td>Red Hot Chili Peppers</td>\n",
       "      <td>5</td>\n",
       "      <td>NaN</td>\n",
       "      <td>322</td>\n",
       "    </tr>\n",
       "  </tbody>\n",
       "</table>\n",
       "</div>"
      ],
      "text/plain": [
       "   id_music style  type            title  \\\n",
       "2         3  Rock  Band  Californication   \n",
       "\n",
       "                                          songwriter  year  \\\n",
       "2  Anthony Kiedis, Chad Smith, Flea E John Frusci...  1999   \n",
       "\n",
       "                  artist  rating_global  rating_user  duration  \n",
       "2  Red Hot Chili Peppers              5          NaN       322  "
      ]
     },
     "metadata": {},
     "output_type": "display_data"
    }
   ],
   "source": [
    "import pandas as pd\n",
    "\n",
    "tm = pd.read_csv('data/tableMusic.csv')\n",
    "filter = tm[tm['id_music']==3]\n",
    "\n",
    "display(filter)"
   ]
  },
  {
   "cell_type": "code",
   "execution_count": null,
   "metadata": {},
   "outputs": [],
   "source": [
    "import pandas as pd\n",
    "import numpy as np\n",
    "\n",
    "tm = pd.read_csv(\".data/tableMusic.csv\", sep=(\",\"), index_col='id_music')\n",
    "#styles = tm[[\"style\"]] #Just column style\n",
    "\n",
    "#new_style = input(\"New Style\")\n",
    "new_style = \"Funk\"\n",
    "#add_style = {'style': new_style}\n",
    "new_msc_line = {'style': new_style, 'type': None, 'title': None, 'songwriter': None, 'year': None, 'artist': None, 'rating_global': None,  'rating_user':None, 'duration': None}\n",
    "\n",
    "tableStyle = tm.append(new_msc_line, ignore_index=True)\n",
    "display(tableStyle)"
   ]
  },
  {
   "cell_type": "code",
   "execution_count": null,
   "metadata": {},
   "outputs": [],
   "source": [
    "count_elements = tm[['title']].count()\n",
    "sum = count_elements + 10\n",
    "\n",
    "print(sum)"
   ]
  },
  {
   "cell_type": "code",
   "execution_count": null,
   "metadata": {},
   "outputs": [],
   "source": [
    "tipos_dados = tm.dtypes\n",
    "print(tipos_dados)"
   ]
  },
  {
   "cell_type": "code",
   "execution_count": null,
   "metadata": {},
   "outputs": [],
   "source": [
    "import pandas as pd\n",
    "\n",
    "styles = []\n",
    "df = pd.read_csv('tableMusic.csv')\n",
    "def addStyle():\n",
    "    styles.append(input())\n",
    "print(\"add a sytle\")\n",
    "styles = (list(df.loc[:, \"style\"].drop_duplicates()))\n",
    "addStyle()\n",
    "\n",
    "display(styles)"
   ]
  },
  {
   "cell_type": "code",
   "execution_count": null,
   "metadata": {},
   "outputs": [],
   "source": [
    "indexMusic = int(input(\"Line\"))\n",
    "lineSpecific = tm.loc[[indexMusic]] #buscando musica pelo id\n",
    "\n",
    "print(lineSpecific)"
   ]
  },
  {
   "cell_type": "code",
   "execution_count": null,
   "metadata": {},
   "outputs": [],
   "source": [
    "import pandas as pd\n",
    "import numpy as np\n",
    "\n",
    "tm = pd.read_csv(\".data/tableMusic.csv\", sep=(\",\"), index_col='id_music')\n",
    "\n",
    "year_lanc = 2001\n",
    "style_search = \"Rock\"\n",
    "\n",
    "search_per = tm[(tm['year']== year_lanc) & (tm['style']==style_search)] #parâmetros para a pesquisa\n",
    "print(search_per[['title', 'year','style']]) #Fazendo print de colunas específicas e em ordem específica"
   ]
  },
  {
   "cell_type": "code",
   "execution_count": null,
   "metadata": {},
   "outputs": [],
   "source": [
    "\n",
    "year = int(input(\"Search by specific year: \"))\n",
    "search_per_year = tm[tm['year']== year]\n",
    "drt_total = search_per_year[['duration']].sum() #Soma da duração das músicas\n",
    "\n",
    "count_elements = search_per_year.count()\n",
    "\n",
    "print(count_elements)"
   ]
  },
  {
   "cell_type": "code",
   "execution_count": null,
   "metadata": {},
   "outputs": [],
   "source": [
    "ano_lanc = int(input(\"Qual o ano de lançamento da música?\"))\n",
    "music_year = tm[tm['year'] == ano_lanc]\n",
    "\n",
    "print(\"Músicas lançadas em\", ano_lanc, \":\")\n",
    "print(music_year[['style', 'type','title','songwriter', 'year','artist','rating_global','rating_user','duration']])"
   ]
  },
  {
   "cell_type": "code",
   "execution_count": null,
   "metadata": {},
   "outputs": [],
   "source": [
    "texto = input(\"Digite o nome da música desejada\")\n",
    "texto_maiusculo = texto.title()\n",
    "\n",
    "print(texto_maiusculo)"
   ]
  },
  {
   "cell_type": "code",
   "execution_count": null,
   "metadata": {},
   "outputs": [],
   "source": [
    "import pandas as pd\n",
    "import numpy as np\n",
    "\n",
    "tm = pd.read_csv(\".data/tableMusic.csv\", sep=(\",\"), index_col='id_music')\n",
    "\n",
    "style_search = input(\"Qual o estilo músical que deseja procurar?\")\n",
    "style_search = style_search.title()\n",
    "style = tm[tm['style'] == style_search]\n",
    "\n",
    "print(\"Músicas do estilo \", style_search, \":\")\n",
    "#display(style[['style', 'type','title','songwriter', 'year','artist','rating_global','rating_user','duration']])\n",
    "display(style[['style', 'type','title','songwriter', 'year','artist','rating_global','rating_user','duration']])"
   ]
  },
  {
   "cell_type": "code",
   "execution_count": null,
   "metadata": {},
   "outputs": [],
   "source": [
    "tm = pd.read_csv(\".data/tableMusic.csv\", sep=(\",\"), index_col='id_music')\n",
    "\n",
    "addStyle = input(\"New style: \")\n",
    "\n",
    "newStyle = {'style': addStyle, 'type': None, 'title': None, 'songwriter': None, 'year': None, 'artist': None, 'rating_global': None,  'rating_user':None, 'duration': None}\n",
    "addNewStyle = tm.append(newStyle, ignore_index=True)\n",
    "print(addNewStyle)"
   ]
  }
 ],
 "metadata": {
  "kernelspec": {
   "display_name": "Python 3",
   "language": "python",
   "name": "python3"
  },
  "language_info": {
   "codemirror_mode": {
    "name": "ipython",
    "version": 3
   },
   "file_extension": ".py",
   "mimetype": "text/x-python",
   "name": "python",
   "nbconvert_exporter": "python",
   "pygments_lexer": "ipython3",
   "version": "3.12.0"
  }
 },
 "nbformat": 4,
 "nbformat_minor": 2
}
